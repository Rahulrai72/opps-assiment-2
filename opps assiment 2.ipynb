{
 "cells": [
  {
   "cell_type": "code",
   "execution_count": 1,
   "id": "c698d408-72af-47e5-b0e8-0df1d26d0250",
   "metadata": {},
   "outputs": [],
   "source": [
    "### Q1. Explain Class and Object with respect to Object-Oriented Programming. Give a suitable example."
   ]
  },
  {
   "cell_type": "code",
   "execution_count": 4,
   "id": "3b2ca59b-91a9-4ef0-876d-fd5bd41bc93f",
   "metadata": {},
   "outputs": [
    {
     "ename": "SyntaxError",
     "evalue": "unterminated string literal (detected at line 2) (167478660.py, line 2)",
     "output_type": "error",
     "traceback": [
      "\u001b[0;36m  Cell \u001b[0;32mIn[4], line 2\u001b[0;36m\u001b[0m\n\u001b[0;31m    Object: An object is an instance of a class. It is a concrete realization of the class's blueprint, with specific values for its attributes. Objects can interact with each other by invoking their methods and accessing their attributes.\u001b[0m\n\u001b[0m                                                                                          ^\u001b[0m\n\u001b[0;31mSyntaxError\u001b[0m\u001b[0;31m:\u001b[0m unterminated string literal (detected at line 2)\n"
     ]
    }
   ],
   "source": [
    "### - A class is a blueprint or template for creating objects. It defines the properties (attributes) and behaviors (methods) that the objects of that class will have. A class is a logical entity that encapsulates data and the operations that can be performed on that data.\n",
    "Object: An object is an instance of a class. It is a concrete realization of the class's blueprint, with specific values for its attributes. Objects can interact with each other by invoking their methods and accessing their attributes."
   ]
  },
  {
   "cell_type": "code",
   "execution_count": 5,
   "id": "7232c165-b34b-45d9-8e1f-87226263ad7c",
   "metadata": {},
   "outputs": [
    {
     "name": "stdout",
     "output_type": "stream",
     "text": [
      "Hello, my name is Alice and I am 30 years old.\n",
      "Hello, my name is Bob and I am 25 years old.\n"
     ]
    }
   ],
   "source": [
    "class Person:\n",
    "    def __init__(self, name, age):\n",
    "        self.name = name\n",
    "        self.age = age\n",
    "\n",
    "    def greet(self):\n",
    "        print(f\"Hello, my name is {self.name} and I am {self.age} years old.\")\n",
    "\n",
    "# Creating objects of the Person class\n",
    "person1 = Person(\"Alice\", 30)\n",
    "person2 = Person(\"Bob\", 25)\n",
    "\n",
    "# Calling the greet method on the objects\n",
    "person1.greet()\n",
    "person2.greet()\n"
   ]
  },
  {
   "cell_type": "code",
   "execution_count": 6,
   "id": "c6d0060d-4eb4-4974-96a1-3ed606584cb5",
   "metadata": {},
   "outputs": [],
   "source": [
    "#Q2. Name the four pillars of OOPs."
   ]
  },
  {
   "cell_type": "code",
   "execution_count": 7,
   "id": "b51998d8-d712-42ea-833e-04a3a728e5a1",
   "metadata": {},
   "outputs": [
    {
     "ename": "SyntaxError",
     "evalue": "invalid syntax (3185123863.py, line 2)",
     "output_type": "error",
     "traceback": [
      "\u001b[0;36m  Cell \u001b[0;32mIn[7], line 2\u001b[0;36m\u001b[0m\n\u001b[0;31m    1-Encapsulation,2-Abstraction, 3- Inheritance, 4-Polymorphism.\u001b[0m\n\u001b[0m                                                                  ^\u001b[0m\n\u001b[0;31mSyntaxError\u001b[0m\u001b[0;31m:\u001b[0m invalid syntax\n"
     ]
    }
   ],
   "source": [
    "#The four pillars of Object-Oriented Programming are\n",
    "1-Encapsulation,2-Abstraction, 3- Inheritance, 4-Polymorphism."
   ]
  },
  {
   "cell_type": "code",
   "execution_count": null,
   "id": "f1d8fad4-bcbd-4f3c-9ddc-ed1597562af1",
   "metadata": {},
   "outputs": [],
   "source": [
    "#Q3. Explain why the _init_() function is used. Give a suitable example"
   ]
  },
  {
   "cell_type": "code",
   "execution_count": null,
   "id": "ecee65fa-68c3-4593-9b9e-260456179c4e",
   "metadata": {},
   "outputs": [],
   "source": [
    "# The __init__() function is a special method in Python classes that is automatically called when an object of the class is created. It is used to initialize the attributes of the object. This is where we can set up the initial state of an object and provide values for its attributes"
   ]
  },
  {
   "cell_type": "code",
   "execution_count": 8,
   "id": "edc3b509-8007-43d1-ba4b-8b60ef67a3e9",
   "metadata": {},
   "outputs": [
    {
     "name": "stdout",
     "output_type": "stream",
     "text": [
      "Area of circle: 78.53975\n"
     ]
    }
   ],
   "source": [
    "class Circle:\n",
    "    def __init__(self, radius):\n",
    "        self.radius = radius\n",
    "\n",
    "    def area(self):\n",
    "        return 3.14159 * self.radius * self.radius\n",
    "\n",
    "\n",
    "circle1 = Circle(5)\n",
    "\n",
    "\n",
    "print(\"Area of circle:\", circle1.area())\n"
   ]
  },
  {
   "cell_type": "code",
   "execution_count": null,
   "id": "628a6fc2-95ea-41f2-89ca-74684235a17b",
   "metadata": {},
   "outputs": [],
   "source": [
    "#Q4. Why self is used in OOPs?"
   ]
  },
  {
   "cell_type": "code",
   "execution_count": null,
   "id": "7af68e71-4e78-42b5-8a3b-cd8599beda72",
   "metadata": {},
   "outputs": [],
   "source": [
    "# In OOP, self is a convention used to refer to the instance of the class within its methods. It allows methods to access and modify the attributes of the instance. When you call a method on an object, Python automatically passes the instance (self) as the first argument to the method, so you can work with the object's data."
   ]
  },
  {
   "cell_type": "code",
   "execution_count": null,
   "id": "3d8e513c-d82e-4d2d-bfa0-a882f8a7b2eb",
   "metadata": {},
   "outputs": [],
   "source": [
    "# Q5. What is inheritance? Give an example for each type of inheritance."
   ]
  },
  {
   "cell_type": "code",
   "execution_count": null,
   "id": "3dea3bda-6a03-4e5f-927a-4dc0fe8cb24f",
   "metadata": {},
   "outputs": [],
   "source": [
    "# Inheritance is a fundamental concept in OOP where a new class (subclass or derived class) is created by inheriting the properties and behaviors of an existing class (base class or parent class). It allows you to create a hierarchy of classes that share common attributes and methods."
   ]
  },
  {
   "cell_type": "code",
   "execution_count": 9,
   "id": "fdcdc483-cd96-4da9-96e6-846b86412c9a",
   "metadata": {},
   "outputs": [
    {
     "name": "stdout",
     "output_type": "stream",
     "text": [
      "Woof!\n",
      "Meow!\n"
     ]
    }
   ],
   "source": [
    "class Animal:\n",
    "    def speak(self):\n",
    "        pass\n",
    "\n",
    "class Dog(Animal):\n",
    "    def speak(self):\n",
    "        print(\"Woof!\")\n",
    "\n",
    "class Cat(Animal):\n",
    "    def speak(self):\n",
    "        print(\"Meow!\")\n",
    "\n",
    "# Creating objects of derived classes\n",
    "dog = Dog()\n",
    "cat = Cat()\n",
    "\n",
    "# Calling the speak method on objects\n",
    "dog.speak()  # Output: Woof!\n",
    "cat.speak()  # Output: Meow!\n"
   ]
  },
  {
   "cell_type": "code",
   "execution_count": null,
   "id": "0244fb6c-0154-4248-a089-6705cfd1c917",
   "metadata": {},
   "outputs": [],
   "source": []
  }
 ],
 "metadata": {
  "kernelspec": {
   "display_name": "Python 3 (ipykernel)",
   "language": "python",
   "name": "python3"
  },
  "language_info": {
   "codemirror_mode": {
    "name": "ipython",
    "version": 3
   },
   "file_extension": ".py",
   "mimetype": "text/x-python",
   "name": "python",
   "nbconvert_exporter": "python",
   "pygments_lexer": "ipython3",
   "version": "3.10.8"
  }
 },
 "nbformat": 4,
 "nbformat_minor": 5
}
